pip install pypdf2
from PyPDF2 import PdfWriter, PdfReader

inputpdf = PdfReader(open("/Users/joesaby/Downloads/merged_1.pdf", "rb"))
count = 1
for i in range(len(inputpdf.pages)):
    output = PdfWriter()
    output.add_page(inputpdf.pages[i])
    with open("ticket_1_23dec%s.pdf" % count, "wb") as outputStream:
        output.write(outputStream)
    count +=1 


inputpdf = PdfReader(open("/Users/joesaby/Downloads/merged_2.pdf", "rb"))
count = 1
for i in range(len(inputpdf.pages)):
    output = PdfWriter()
    output.add_page(inputpdf.pages[i])
    with open("ticket_2_23dec%s.pdf" % count, "wb") as outputStream:
        output.write(outputStream)
    count +=1 
